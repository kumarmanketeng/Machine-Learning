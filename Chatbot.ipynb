{
  "nbformat": 4,
  "nbformat_minor": 0,
  "metadata": {
    "colab": {
      "name": "Untitled12.ipynb",
      "provenance": []
    },
    "kernelspec": {
      "name": "python3",
      "display_name": "Python 3"
    },
    "language_info": {
      "name": "python"
    }
  },
  "cells": [
    {
      "cell_type": "code",
      "metadata": {
        "colab": {
          "base_uri": "https://localhost:8080/"
        },
        "id": "GKNkUdUc_BVk",
        "outputId": "40a2d069-9c77-40fc-ff7e-53ce9a936b43"
      },
      "source": [
        "!pip install git+git://github.com/gunthercox/ChatterBot.git@master"
      ],
      "execution_count": 1,
      "outputs": [
        {
          "output_type": "stream",
          "name": "stdout",
          "text": [
            "Collecting git+git://github.com/gunthercox/ChatterBot.git@master\n",
            "  Cloning git://github.com/gunthercox/ChatterBot.git (to revision master) to /tmp/pip-req-build-e873jw_r\n",
            "  Running command git clone -q git://github.com/gunthercox/ChatterBot.git /tmp/pip-req-build-e873jw_r\n",
            "Collecting mathparse<0.2,>=0.1\n",
            "  Downloading mathparse-0.1.2-py3-none-any.whl (7.2 kB)\n",
            "Requirement already satisfied: python-dateutil<2.9,>=2.8 in /usr/local/lib/python3.7/dist-packages (from ChatterBot==1.1.0a7) (2.8.2)\n",
            "Collecting sqlalchemy<1.4,>=1.3\n",
            "  Downloading SQLAlchemy-1.3.24-cp37-cp37m-manylinux2010_x86_64.whl (1.3 MB)\n",
            "\u001b[K     |████████████████████████████████| 1.3 MB 8.4 MB/s \n",
            "\u001b[?25hRequirement already satisfied: pytz in /usr/local/lib/python3.7/dist-packages (from ChatterBot==1.1.0a7) (2018.9)\n",
            "Requirement already satisfied: six>=1.5 in /usr/local/lib/python3.7/dist-packages (from python-dateutil<2.9,>=2.8->ChatterBot==1.1.0a7) (1.15.0)\n",
            "Building wheels for collected packages: ChatterBot\n",
            "  Building wheel for ChatterBot (setup.py) ... \u001b[?25l\u001b[?25hdone\n",
            "  Created wheel for ChatterBot: filename=ChatterBot-1.1.0a7-py2.py3-none-any.whl size=63729 sha256=fae7b39f40ae4dd15bc6dca20a3b9c3ea6045f6648e48baa1de2bf26e35863ab\n",
            "  Stored in directory: /tmp/pip-ephem-wheel-cache-2jmnnfts/wheels/9a/ac/ca/16644781e227d7ee360d738dafaa5fc0f8e8cf3a70b3cf35a2\n",
            "Successfully built ChatterBot\n",
            "Installing collected packages: sqlalchemy, mathparse, ChatterBot\n",
            "  Attempting uninstall: sqlalchemy\n",
            "    Found existing installation: SQLAlchemy 1.4.22\n",
            "    Uninstalling SQLAlchemy-1.4.22:\n",
            "      Successfully uninstalled SQLAlchemy-1.4.22\n",
            "Successfully installed ChatterBot-1.1.0a7 mathparse-0.1.2 sqlalchemy-1.3.24\n"
          ]
        }
      ]
    },
    {
      "cell_type": "code",
      "metadata": {
        "colab": {
          "base_uri": "https://localhost:8080/"
        },
        "id": "FaIIKj2P_Dsg",
        "outputId": "a9cc608b-c3b2-4e49-fac8-6c12425f888f"
      },
      "source": [
        "!pip intall --upgrade chatterbot_corpus\n",
        "!pip install --upgrade chatterbot"
      ],
      "execution_count": 2,
      "outputs": [
        {
          "output_type": "stream",
          "name": "stdout",
          "text": [
            "ERROR: unknown command \"intall\" - maybe you meant \"install\"\n",
            "Requirement already satisfied: chatterbot in /usr/local/lib/python3.7/dist-packages (1.1.0a7)\n",
            "Requirement already satisfied: python-dateutil<2.9,>=2.8 in /usr/local/lib/python3.7/dist-packages (from chatterbot) (2.8.2)\n",
            "Requirement already satisfied: sqlalchemy<1.4,>=1.3 in /usr/local/lib/python3.7/dist-packages (from chatterbot) (1.3.24)\n",
            "Requirement already satisfied: mathparse<0.2,>=0.1 in /usr/local/lib/python3.7/dist-packages (from chatterbot) (0.1.2)\n",
            "Requirement already satisfied: pytz in /usr/local/lib/python3.7/dist-packages (from chatterbot) (2018.9)\n",
            "Requirement already satisfied: six>=1.5 in /usr/local/lib/python3.7/dist-packages (from python-dateutil<2.9,>=2.8->chatterbot) (1.15.0)\n"
          ]
        }
      ]
    },
    {
      "cell_type": "code",
      "metadata": {
        "id": "dU7d-3hR_QPh"
      },
      "source": [
        "from chatterbot import ChatBot\n",
        "from chatterbot.trainers import ListTrainer"
      ],
      "execution_count": 3,
      "outputs": []
    },
    {
      "cell_type": "code",
      "metadata": {
        "id": "KO-KrjM__c-w"
      },
      "source": [
        "my_bot= ChatBot(name='PyBot', logic_adapters=['chatterbot.logic.MathematicalEvaluation','chatterbot.logic.BestMatch'])"
      ],
      "execution_count": 7,
      "outputs": []
    },
    {
      "cell_type": "code",
      "metadata": {
        "id": "Z4uAwpMSAbF2"
      },
      "source": [
        "small_talk =['hi there!', 'hi!', 'how are you?', \n",
        "             'I\\'m good', 'fine,you?', 'always cool.','i\\m ok', 'glad to hear that',\n",
        "             'i feel awesome', 'not so good', 'sorry to hear that', 'what\\'s your name?']"
      ],
      "execution_count": 8,
      "outputs": []
    },
    {
      "cell_type": "code",
      "metadata": {
        "id": "qy6GxaX0Bkh0"
      },
      "source": [
        "love_talk = ['Sunny loves whom?', 'Saniya.']"
      ],
      "execution_count": 16,
      "outputs": []
    },
    {
      "cell_type": "code",
      "metadata": {
        "id": "AfxcZBR9DP3E"
      },
      "source": [
        "general_talk = ['Who is Adarsh?', 'Adarsh is a youtuber.']"
      ],
      "execution_count": 24,
      "outputs": []
    },
    {
      "cell_type": "code",
      "metadata": {
        "colab": {
          "base_uri": "https://localhost:8080/"
        },
        "id": "1f9YxlKWB1ke",
        "outputId": "faf7fe27-1602-4835-92e3-bd8082e7d913"
      },
      "source": [
        "list_trainer = ListTrainer(my_bot)\n",
        "\n",
        "for item in (small_talk, love_talk):\n",
        "  list_trainer.train(item)"
      ],
      "execution_count": 27,
      "outputs": [
        {
          "output_type": "stream",
          "name": "stdout",
          "text": [
            "List Trainer: [####################] 100%\n",
            "List Trainer: [####################] 100%\n"
          ]
        }
      ]
    },
    {
      "cell_type": "code",
      "metadata": {
        "colab": {
          "base_uri": "https://localhost:8080/"
        },
        "id": "fRMDgtW3CKSp",
        "outputId": "5c757747-142a-4037-f728-3d6a822cd60d"
      },
      "source": [
        "my_bot.get_response(\"Sunny loves whom?\") "
      ],
      "execution_count": 28,
      "outputs": [
        {
          "output_type": "execute_result",
          "data": {
            "text/plain": [
              "<Statement text:Saniya.>"
            ]
          },
          "metadata": {},
          "execution_count": 28
        }
      ]
    },
    {
      "cell_type": "code",
      "metadata": {
        "colab": {
          "base_uri": "https://localhost:8080/"
        },
        "id": "g1uSeBqqCvOf",
        "outputId": "b41e1819-fe58-44c8-fe8e-8d248bdd8a6c"
      },
      "source": [
        "my_bot.get_response(\"Who is Adarsh?\") "
      ],
      "execution_count": 29,
      "outputs": [
        {
          "output_type": "execute_result",
          "data": {
            "text/plain": [
              "<Statement text:Adarsh is a youtuber>"
            ]
          },
          "metadata": {},
          "execution_count": 29
        }
      ]
    }
  ]
}
