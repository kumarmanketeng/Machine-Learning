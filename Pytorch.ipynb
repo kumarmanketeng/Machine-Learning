{
  "nbformat": 4,
  "nbformat_minor": 0,
  "metadata": {
    "colab": {
      "name": "Pytorch.ipynb",
      "provenance": [],
      "authorship_tag": "ABX9TyPrIM+h16kOZChUZiuhvnDW",
      "include_colab_link": true
    },
    "kernelspec": {
      "name": "python3",
      "display_name": "Python 3"
    },
    "language_info": {
      "name": "python"
    },
    "accelerator": "GPU"
  },
  "cells": [
    {
      "cell_type": "markdown",
      "metadata": {
        "id": "view-in-github",
        "colab_type": "text"
      },
      "source": [
        "<a href=\"https://colab.research.google.com/github/manket16/Machine-Learning/blob/main/Pytorch.ipynb\" target=\"_parent\"><img src=\"https://colab.research.google.com/assets/colab-badge.svg\" alt=\"Open In Colab\"/></a>"
      ]
    },
    {
      "cell_type": "code",
      "metadata": {
        "id": "YIIGRhvOM3RH"
      },
      "source": [
        "import numpy as np\n",
        "import torch"
      ],
      "execution_count": 2,
      "outputs": []
    },
    {
      "cell_type": "code",
      "metadata": {
        "id": "QbTTKxSYM5Gp"
      },
      "source": [
        "SEED = 1234"
      ],
      "execution_count": 2,
      "outputs": []
    },
    {
      "cell_type": "code",
      "metadata": {
        "colab": {
          "base_uri": "https://localhost:8080/"
        },
        "id": "geMNUjwnM6vX",
        "outputId": "c1f5f4e1-20eb-4a2a-d7bc-af9b2166e4ed"
      },
      "source": [
        "# Set seed for reproducibility\n",
        "np.random.seed(seed=SEED)\n",
        "torch.manual_seed(SEED)"
      ],
      "execution_count": 3,
      "outputs": [
        {
          "output_type": "execute_result",
          "data": {
            "text/plain": [
              "<torch._C.Generator at 0x7fc491779af0>"
            ]
          },
          "metadata": {
            "tags": []
          },
          "execution_count": 3
        }
      ]
    },
    {
      "cell_type": "code",
      "metadata": {
        "colab": {
          "base_uri": "https://localhost:8080/"
        },
        "id": "01v2RxMiNELr",
        "outputId": "b40e0680-de36-4585-8abf-db5126031d5f"
      },
      "source": [
        "x=torch.randn(3,4)\n",
        "print(f\"Type:{x.type()}\")\n",
        "print(f\"Size:{x.shape}\")\n",
        "print(f\"Values:\\n{x}\")"
      ],
      "execution_count": 4,
      "outputs": [
        {
          "output_type": "stream",
          "text": [
            "Type:torch.FloatTensor\n",
            "Size:torch.Size([3, 4])\n",
            "Values:\n",
            "tensor([[ 0.0461,  0.4024, -1.0115,  0.2167],\n",
            "        [-0.6123,  0.5036,  0.2310,  0.6931],\n",
            "        [-0.2669,  2.1785,  0.1021, -0.2590]])\n"
          ],
          "name": "stdout"
        }
      ]
    },
    {
      "cell_type": "code",
      "metadata": {
        "colab": {
          "base_uri": "https://localhost:8080/"
        },
        "id": "d4hbHhrjNezy",
        "outputId": "ec15017f-33ce-4de7-e4b5-3e671672f060"
      },
      "source": [
        "# Zero and Ones tensor\n",
        "x = torch.zeros(2, 3)\n",
        "print (x)\n",
        "x = torch.ones(2, 3)\n",
        "print (x)"
      ],
      "execution_count": 5,
      "outputs": [
        {
          "output_type": "stream",
          "text": [
            "tensor([[0., 0., 0.],\n",
            "        [0., 0., 0.]])\n",
            "tensor([[1., 1., 1.],\n",
            "        [1., 1., 1.]])\n"
          ],
          "name": "stdout"
        }
      ]
    },
    {
      "cell_type": "code",
      "metadata": {
        "colab": {
          "base_uri": "https://localhost:8080/"
        },
        "id": "77khgIpfNgVY",
        "outputId": "9c38c934-1434-4864-f942-a688c4c81296"
      },
      "source": [
        "# List → Tensor\n",
        "x = torch.Tensor([[1, 2, 3],[4, 5, 6]])\n",
        "print(f\"Size: {x.shape}\")\n",
        "print(f\"Values: \\n{x}\")"
      ],
      "execution_count": 6,
      "outputs": [
        {
          "output_type": "stream",
          "text": [
            "Size: torch.Size([2, 3])\n",
            "Values: \n",
            "tensor([[1., 2., 3.],\n",
            "        [4., 5., 6.]])\n"
          ],
          "name": "stdout"
        }
      ]
    },
    {
      "cell_type": "code",
      "metadata": {
        "colab": {
          "base_uri": "https://localhost:8080/"
        },
        "id": "9fiIE0a6OOzU",
        "outputId": "c73d51d6-1a6e-4d31-cd8a-2fc76c5b4390"
      },
      "source": [
        "# NumPy array → Tensor\n",
        "x = torch.Tensor(np.random.rand(2, 3))\n",
        "print(f\"Size: {x.shape}\")\n",
        "print(f\"Values: \\n{x}\")"
      ],
      "execution_count": 7,
      "outputs": [
        {
          "output_type": "stream",
          "text": [
            "Size: torch.Size([2, 3])\n",
            "Values: \n",
            "tensor([[0.1915, 0.6221, 0.4377],\n",
            "        [0.7854, 0.7800, 0.2726]])\n"
          ],
          "name": "stdout"
        }
      ]
    },
    {
      "cell_type": "code",
      "metadata": {
        "colab": {
          "base_uri": "https://localhost:8080/"
        },
        "id": "prH28KVJOS1b",
        "outputId": "3bbb39c4-980d-40f6-8c21-6a8429485a82"
      },
      "source": [
        "# Changing tensor type\n",
        "x = torch.Tensor(3, 4)\n",
        "print(f\"Type: {x.type()}\")\n",
        "x = x.long()\n",
        "print(f\"Type: {x.type()}\")"
      ],
      "execution_count": 8,
      "outputs": [
        {
          "output_type": "stream",
          "text": [
            "Type: torch.FloatTensor\n",
            "Type: torch.LongTensor\n"
          ],
          "name": "stdout"
        }
      ]
    },
    {
      "cell_type": "code",
      "metadata": {
        "colab": {
          "base_uri": "https://localhost:8080/"
        },
        "id": "HKJeGkKkObjg",
        "outputId": "7e392287-d6c9-4449-f3b2-c36cb9499986"
      },
      "source": [
        "# Addition\n",
        "x = torch.randn(2, 3)\n",
        "y = torch.randn(2, 3)\n",
        "z = x + y\n",
        "print(f\"Size: {z.shape}\")\n",
        "print(f\"Values: \\n{z}\")"
      ],
      "execution_count": 9,
      "outputs": [
        {
          "output_type": "stream",
          "text": [
            "Size: torch.Size([2, 3])\n",
            "Values: \n",
            "tensor([[-0.1647, -2.8179, -0.3358],\n",
            "        [ 1.7586, -0.9427,  1.2443]])\n"
          ],
          "name": "stdout"
        }
      ]
    },
    {
      "cell_type": "code",
      "metadata": {
        "colab": {
          "base_uri": "https://localhost:8080/"
        },
        "id": "Wysn2BKZOeRW",
        "outputId": "4719ba11-a6d9-4e2e-e3a9-f56016b7e227"
      },
      "source": [
        "# Dot product\n",
        "x = torch.randn(2, 3)\n",
        "y = torch.randn(3, 2)\n",
        "z = torch.mm(x, y)\n",
        "print(f\"Size: {z.shape}\")\n",
        "print(f\"Values: \\n{z}\")"
      ],
      "execution_count": 10,
      "outputs": [
        {
          "output_type": "stream",
          "text": [
            "Size: torch.Size([2, 2])\n",
            "Values: \n",
            "tensor([[ 1.3179, -2.2960],\n",
            "        [ 1.3955, -2.7855]])\n"
          ],
          "name": "stdout"
        }
      ]
    },
    {
      "cell_type": "code",
      "metadata": {
        "id": "a79P6nbYO-Vz"
      },
      "source": [
        "# Transpose\n",
        "x = torch.randn(2, 3)\n",
        "print(f\"Size: {x.shape}\")\n",
        "print(f\"Values: \\n{x}\")\n",
        "y = torch.t(x)\n",
        "print(f\"Size: {y.shape}\")\n",
        "print(f\"Values: \\n{y}\")"
      ],
      "execution_count": null,
      "outputs": []
    },
    {
      "cell_type": "code",
      "metadata": {
        "colab": {
          "base_uri": "https://localhost:8080/"
        },
        "id": "auqlzoBlPdOT",
        "outputId": "b03601de-a243-4dc0-8512-0d1047b8d414"
      },
      "source": [
        "print (torch.cuda.is_available())"
      ],
      "execution_count": 11,
      "outputs": [
        {
          "output_type": "stream",
          "text": [
            "False\n"
          ],
          "name": "stdout"
        }
      ]
    },
    {
      "cell_type": "code",
      "metadata": {
        "colab": {
          "base_uri": "https://localhost:8080/"
        },
        "id": "f9Q43AJFPjgP",
        "outputId": "ab9c3844-094a-438a-db6a-a03f22f89dc6"
      },
      "source": [
        "print (torch.cuda.is_available())"
      ],
      "execution_count": 3,
      "outputs": [
        {
          "output_type": "stream",
          "text": [
            "True\n"
          ],
          "name": "stdout"
        }
      ]
    }
  ]
}